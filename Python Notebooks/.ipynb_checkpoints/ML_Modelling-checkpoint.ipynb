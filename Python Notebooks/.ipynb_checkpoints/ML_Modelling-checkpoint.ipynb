{
 "cells": [
  {
   "cell_type": "code",
   "execution_count": 1,
   "id": "93bbd19c",
   "metadata": {},
   "outputs": [],
   "source": [
    "import pandas as pd\n",
    "import category_encoders as ce\n",
    "from sklearn.model_selection import train_test_split\n",
    "from sklearn.linear_model import LogisticRegression\n",
    "from sklearn.ensemble import RandomForestClassifier\n",
    "from sklearn.svm import SVC\n",
    "from sklearn.neighbors import KNeighborsClassifier\n",
    "from sklearn.metrics import f1_score\n",
    "import matplotlib.pyplot as plt\n",
    "import seaborn as sns\n",
    "import xgboost as xgb\n",
    "from sklearn.metrics import accuracy_score, classification_report, confusion_matrix\n",
    "import numpy as np\n",
    "from collections import Counter\n",
    "from imblearn.over_sampling import SMOTE\n",
    "import pickle\n",
    "import warnings \n",
    "warnings.filterwarnings('ignore')"
   ]
  },
  {
   "cell_type": "code",
   "execution_count": 2,
   "id": "b1ed2f41",
   "metadata": {},
   "outputs": [],
   "source": [
    "X_train = pd.read_csv('../Data/X_train.csv')\n",
    "y_train = pd.read_csv('../Data/y_train.csv')\n",
    "X_test = pd.read_csv('../Data/X_test.csv')\n",
    "y_test = pd.read_csv('../Data/y_test.csv')\n",
    "X_oot = pd.read_csv('../Data/X_oot.csv')\n",
    "y_oot = pd.read_csv('../Data/y_oot.csv')\n",
    "y_train = y_train['Fraud']\n",
    "y_test = y_test['Fraud']\n",
    "y_oot = y_oot['Fraud']\n",
    "X_train = X_train.drop(['Unnamed: 0'], axis=1)\n",
    "X_test = X_test.drop(['Unnamed: 0'], axis=1)\n",
    "X_oot = X_oot.drop(['Unnamed: 0'], axis=1)"
   ]
  },
  {
   "cell_type": "code",
   "execution_count": 3,
   "id": "1b9499d3",
   "metadata": {},
   "outputs": [
    {
     "data": {
      "text/plain": [
       "Index(['Year', 'Day', 'Weekend', 'Amount', 'Avg_Transaction_Amount',\n",
       "       'Amount_Deviation', 'Min_Amount', 'Max_Amount',\n",
       "       'Merchant_Frequency_Week', 'Merchant_Frequency_Month',\n",
       "       'Card_Frequency_Week', 'Card_Frequency_Month', 'Days_Since_Card_Seen',\n",
       "       'Days_Since_Merchant_Appeared', 'Days_Since_Card_Merch_Combination',\n",
       "       'Cardnum_0', 'Cardnum_1', 'Cardnum_2', 'Cardnum_3', 'Cardnum_4',\n",
       "       'Cardnum_5', 'Cardnum_6', 'Cardnum_7', 'Cardnum_8', 'Cardnum_9',\n",
       "       'Cardnum_10', 'Day_of_Week_0', 'Day_of_Week_1', 'Day_of_Week_2',\n",
       "       'Month_0', 'Month_1', 'Month_2', 'Month_3', 'Merchnum_0', 'Merchnum_1',\n",
       "       'Merchnum_2', 'Merchnum_3', 'Merchnum_4', 'Merchnum_5', 'Merchnum_6',\n",
       "       'Merchnum_7', 'Merchnum_8', 'Merchnum_9', 'Merchnum_10', 'Merchnum_11',\n",
       "       'Merchnum_12', 'Merchnum_13', 'Merch description_0',\n",
       "       'Merch description_1', 'Merch description_2', 'Merch description_3',\n",
       "       'Merch description_4', 'Merch description_5', 'Merch description_6',\n",
       "       'Merch description_7', 'Merch description_8', 'Merch description_9',\n",
       "       'Merch description_10', 'Merch description_11', 'Merch description_12',\n",
       "       'Merch description_13', 'Merch state_0', 'Merch state_1',\n",
       "       'Merch state_2', 'Merch state_3', 'Merch state_4', 'Merch state_5',\n",
       "       'Merch zip_0', 'Merch zip_1', 'Merch zip_2', 'Merch zip_3',\n",
       "       'Merch zip_4', 'Merch zip_5', 'Merch zip_6', 'Merch zip_7',\n",
       "       'Merch zip_8', 'Merch zip_9', 'Merch zip_10', 'Merch zip_11',\n",
       "       'Merch zip_12', 'Previous_Fraud_0', 'Previous_Fraud_1'],\n",
       "      dtype='object')"
      ]
     },
     "execution_count": 3,
     "metadata": {},
     "output_type": "execute_result"
    }
   ],
   "source": [
    "X_train.columns"
   ]
  },
  {
   "cell_type": "code",
   "execution_count": 4,
   "id": "26dc8d0c",
   "metadata": {},
   "outputs": [],
   "source": [
    "results = []\n",
    "\n",
    "\n",
    "models = [\n",
    "    ('Logistic Regression', LogisticRegression()),\n",
    "    ('Random Forest', RandomForestClassifier()),\n",
    "    ('Support Vector Machine', SVC(probability=True)),\n",
    "    ('K-Nearest Neighbors', KNeighborsClassifier()),\n",
    "    ('XGBoost',xgb.XGBClassifier( objective=\"multi:softmax\",num_class=3,max_depth=3,learning_rate=0.1,n_estimators=100,subsample=0.8,colsample_bytree=0.8,random_state=42))\n",
    "    # Add more models here\n",
    "]"
   ]
  },
  {
   "cell_type": "code",
   "execution_count": null,
   "id": "71d13e8c",
   "metadata": {},
   "outputs": [
    {
     "name": "stdout",
     "output_type": "stream",
     "text": [
      "Logistic Regression done\n",
      "Random Forest done\n"
     ]
    }
   ],
   "source": [
    "\n",
    "\n",
    "for model_name, model in models:\n",
    "    model.fit(X_train, y_train)\n",
    "    y_pred = model.predict(X_test)\n",
    "    y_pred_oot = model.predict(X_oot)\n",
    "    # Calculate evaluation metrics\n",
    "    accuracy_oot = accuracy_score(y_oot, y_pred_oot)\n",
    "    accuracy = accuracy_score(y_test, y_pred)\n",
    "    report = classification_report(y_test, y_pred, output_dict=True)\n",
    "    report_oot = classification_report(y_oot, y_pred_oot, output_dict=True)\n",
    "    precision = report['macro avg']['precision']\n",
    "    recall = report['macro avg']['recall']\n",
    "    f1_score = report['macro avg']['f1-score']\n",
    "    f1_score_oot = report_oot['macro avg']['f1-score']\n",
    "    # Calculate confusion matrix values\n",
    "    cm_oot = confusion_matrix(y_oot, y_pred_oot)\n",
    "    cm = confusion_matrix(y_test, y_pred)\n",
    "    tn, fp, fn, tp = cm.ravel()\n",
    "    tn_oot, fp_oot, fn_oot, tp_oot = cm_oot.ravel()\n",
    "    #mc_rate = (((fp+fn)/len())*100)\n",
    "    #mc_rate_oot = (((fp_oot+fn_oot)/(tp_oot+fp_oot+tn_oot+fn_oot))*100)\n",
    "    data = pd.DataFrame(X_test, columns=['Amount'])  # Include other columns if needed\n",
    "    data_oot = pd.DataFrame(X_oot, columns=['Amount'])\n",
    "    # Add predictions and true labels to the DataFrame\n",
    "    data['predicted'] = y_pred\n",
    "    data['actual'] = y_test\n",
    "    data_oot['predicted'] = y_pred_oot\n",
    "    data_oot['actual'] = y_oot \n",
    "    # Filter out true positive cases\n",
    "    true_positives = data[(data['predicted'] == 1) & (data['actual'] == 1)]\n",
    "    \n",
    "    true_positives_oot = data_oot[(data_oot['predicted'] == 1) & (data_oot['actual'] == 1)]\n",
    "    # Get the sum of amounts for true positives\n",
    "    sum_amounts_true_positives = true_positives['Amount'].sum()\n",
    "    sum_amounts_true_positives_oot = true_positives_oot['Amount'].sum()\n",
    "    y_probs = model.predict_proba(X_test)[:, 1]\n",
    "    \n",
    "    # Create a DataFrame with actual and predicted values\n",
    "    data = pd.DataFrame({'Actual': y_test, 'Predicted': y_probs})\n",
    "    \n",
    "    # Calculate FDR for regular data\n",
    "    top_percentage = 0.03  # Top 3% of cases\n",
    "    top_records = int(len(data) * top_percentage)\n",
    "    \n",
    "    # Sort by predicted probabilities in descending order\n",
    "    data = data.sort_values(by='Predicted', ascending=False)\n",
    "    \n",
    "    # Select top percentage of records\n",
    "    top_records_data = data.head(top_records)\n",
    "    \n",
    "    # Calculate FDR for regular data\n",
    "    fraud_cases = sum(top_records_data['Actual'])\n",
    "    FDR = fraud_cases / sum(data['Actual'])\n",
    "    \n",
    "    # Create a DataFrame with actual and predicted values for OOT data\n",
    "    data_oot = pd.DataFrame({'Actual': y_oot, 'Predicted': model.predict_proba(X_oot)[:, 1]})\n",
    "    \n",
    "    # Calculate FDR for OOT data\n",
    "    top_records_oot = int(len(data_oot) * top_percentage)\n",
    "    data_oot = data_oot.sort_values(by='Predicted', ascending=False)\n",
    "    top_records_data_oot = data_oot.head(top_records_oot)\n",
    "    fraud_cases_oot = sum(top_records_data_oot['Actual'])\n",
    "    FDR_oot = fraud_cases_oot / sum(data_oot['Actual'])\n",
    "    \n",
    "    # Create a dictionary with results\n",
    "    model_results = {\n",
    "        'Model': model_name,\n",
    "        'Accuracy': accuracy,\n",
    "        'Precision': precision,\n",
    "        'Recall': recall,\n",
    "        'F1 Score': f1_score,\n",
    "        'TP': tp,\n",
    "        'FP': fp,\n",
    "        'TN': tn,\n",
    "        'FN': fn,\n",
    "        #'Miss_Classification_Rate':mc_rate,\n",
    "        'Amount_Saved':sum_amounts_true_positives,\n",
    "        'FDR': FDR,\n",
    "        'Amount_saved_OOT': sum_amounts_true_positives_oot,\n",
    "        'Accuracy OOT': accuracy_oot,\n",
    "        'F1 Score OOT': f1_score_oot,\n",
    "        #'Miss_Classification_Rate_OOT':mc_rate_oot,\n",
    "        'FDR OOT': FDR_oot  # Add FDR for OOT data\n",
    "    }\n",
    "    \n",
    "    # Append results to list\n",
    "    results.append(model_results)\n",
    "    \n",
    "    print(model_name+' done')\n",
    "\n",
    "# Convert results list to DataFrame\n",
    "results_df = pd.DataFrame(results)\n"
   ]
  },
  {
   "cell_type": "code",
   "execution_count": null,
   "id": "a7212f75",
   "metadata": {},
   "outputs": [],
   "source": [
    "results_df"
   ]
  },
  {
   "cell_type": "code",
   "execution_count": null,
   "id": "4e5bd619",
   "metadata": {},
   "outputs": [],
   "source": [
    "best_model_indice = results_df['F1 Score OOT'].idxmax()"
   ]
  },
  {
   "cell_type": "code",
   "execution_count": null,
   "id": "23454cbb",
   "metadata": {},
   "outputs": [],
   "source": [
    "plt.figure(figsize=(20, 20))\n",
    "sns.barplot(x=X_train.columns, y=models[best_model_indice][1].feature_importances_)\n",
    "plt.xticks(rotation=45)\n",
    "plt.savefig('../Images/ML Model Feature Importance.jpg')\n",
    "plt.show()"
   ]
  },
  {
   "cell_type": "code",
   "execution_count": null,
   "id": "0b407bae",
   "metadata": {},
   "outputs": [],
   "source": [
    "with open('ML_Model.pkl', 'wb') as outfile:\n",
    "    pickle.dump(models[best_model_indice][1], outfile)"
   ]
  }
 ],
 "metadata": {
  "kernelspec": {
   "display_name": "Python 3 (ipykernel)",
   "language": "python",
   "name": "python3"
  },
  "language_info": {
   "codemirror_mode": {
    "name": "ipython",
    "version": 3
   },
   "file_extension": ".py",
   "mimetype": "text/x-python",
   "name": "python",
   "nbconvert_exporter": "python",
   "pygments_lexer": "ipython3",
   "version": "3.11.5"
  }
 },
 "nbformat": 4,
 "nbformat_minor": 5
}
