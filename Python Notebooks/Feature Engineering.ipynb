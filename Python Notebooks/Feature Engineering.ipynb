{
 "cells": [
  {
   "cell_type": "code",
   "execution_count": 1,
   "id": "d870455f",
   "metadata": {},
   "outputs": [],
   "source": [
    "import pandas as pd\n",
    "import category_encoders as ce\n",
    "from sklearn.model_selection import train_test_split"
   ]
  },
  {
   "cell_type": "code",
   "execution_count": 2,
   "id": "bb7acb4c",
   "metadata": {},
   "outputs": [],
   "source": [
    "df = pd.read_csv('Cleaned_data.csv')"
   ]
  },
  {
   "cell_type": "code",
   "execution_count": 3,
   "id": "258c1e4b",
   "metadata": {},
   "outputs": [],
   "source": [
    "df['Date'] = pd.to_datetime(df['Date'])\n",
    "\n",
    "\n",
    "df.sort_values(['Recnum', 'Date'], inplace=True)\n",
    "\n",
    "\n",
    "df['Day_of_Week'] = df['Date'].dt.dayofweek\n",
    "df['Month'] = df['Date'].dt.month\n",
    "df['Weekend'] = (df['Day_of_Week'] >= 5).astype(int)\n",
    "df['Year'] = df['Date'].dt.year\n",
    "df['Day'] = df['Date'].dt.day\n",
    "\n",
    "\n",
    "df['Avg_Transaction_Amount'] = df.groupby('Cardnum')['Amount'].transform(lambda x: x.expanding().mean())\n",
    "\n",
    "\n",
    "df['Amount_Deviation'] = df['Amount'] - df['Avg_Transaction_Amount']\n",
    "\n",
    "df['Min_Amount'] = df.groupby('Cardnum')['Amount'].transform(lambda x: x.expanding().min())\n",
    "df['Max_Amount'] = df.groupby('Cardnum')['Amount'].transform(lambda x: x.expanding().max())\n",
    "\n",
    "\n",
    "df['Merchant_Frequency_Week'] = df.groupby(['Merchnum', pd.Grouper(key='Date', freq='W')])['Recnum'].transform('count')\n",
    "df['Merchant_Frequency_Month'] = df.groupby(['Merchnum', pd.Grouper(key='Date', freq='M')])['Recnum'].transform('count')\n",
    "\n",
    "df['Card_Frequency_Week'] = df.groupby(['Cardnum', pd.Grouper(key='Date', freq='W')])['Recnum'].transform('count')\n",
    "df['Card_Frequency_Month'] = df.groupby(['Cardnum', pd.Grouper(key='Date', freq='M')])['Recnum'].transform('count')\n",
    "\n",
    "\n",
    "df['Previous_Fraud'] = df.groupby('Cardnum')['Fraud'].shift().fillna(0)\n",
    "\n",
    "\n",
    "df['Days_Since_Card_Seen'] = df.groupby('Cardnum').cumcount()\n",
    "\n",
    "\n",
    "df['Days_Since_Merchant_Appeared'] = df.groupby('Merchnum').cumcount()\n",
    "\n",
    "\n",
    "df['Days_Since_Card_Merch_Combination'] = df.groupby(['Cardnum', 'Merchnum']).cumcount()\n",
    "\n",
    "\n",
    "df = df[['Recnum', 'Cardnum','Year', 'Day','Day_of_Week', 'Month', 'Weekend', \n",
    "         'Amount', 'Avg_Transaction_Amount', 'Amount_Deviation', 'Min_Amount', 'Max_Amount', \n",
    "         'Merchnum', 'Merch description', 'Merch state', 'Merch zip', \n",
    "         'Merchant_Frequency_Week', 'Merchant_Frequency_Month',\n",
    "         'Card_Frequency_Week', 'Card_Frequency_Month',\n",
    "         'Previous_Fraud', 'Days_Since_Card_Seen',\n",
    "         'Days_Since_Merchant_Appeared', 'Days_Since_Card_Merch_Combination', 'Fraud']]\n"
   ]
  },
  {
   "cell_type": "code",
   "execution_count": 4,
   "id": "9aca598d",
   "metadata": {},
   "outputs": [],
   "source": [
    "df.to_csv('Data_with_features.csv')"
   ]
  },
  {
   "cell_type": "code",
   "execution_count": 5,
   "id": "6b162916",
   "metadata": {},
   "outputs": [],
   "source": [
    "oot = df[df['Month']>10]\n",
    "df = df[df['Month'] < 11]"
   ]
  },
  {
   "cell_type": "code",
   "execution_count": 6,
   "id": "95ff5c37",
   "metadata": {},
   "outputs": [],
   "source": [
    "cat_cols = ['Cardnum','Day_of_Week', 'Month', 'Merchnum', 'Merch description', 'Merch state', 'Merch zip', 'Previous_Fraud']\n",
    "df[cat_cols] = df[cat_cols].astype(\"category\")\n",
    "oot[cat_cols] = oot[cat_cols].astype(\"category\")"
   ]
  },
  {
   "cell_type": "code",
   "execution_count": 7,
   "id": "2f78ca7a",
   "metadata": {},
   "outputs": [],
   "source": [
    "encoder = ce.BinaryEncoder(cols=cat_cols)\n",
    "df_binary = encoder.fit_transform(df[cat_cols])\n",
    "oot_binary = encoder.transform(oot[cat_cols])"
   ]
  },
  {
   "cell_type": "code",
   "execution_count": 8,
   "id": "718c1efd",
   "metadata": {},
   "outputs": [],
   "source": [
    "df = df.drop(cat_cols, axis=1)\n",
    "oot = oot.drop(cat_cols, axis=1)\n",
    "df = pd.concat([df, df_binary],axis=1)\n",
    "oot = pd.concat([oot, oot_binary],axis=1)\n",
    "df = df.fillna(0)\n",
    "oot = oot.fillna(0)"
   ]
  },
  {
   "cell_type": "code",
   "execution_count": 9,
   "id": "cc10fc1c",
   "metadata": {},
   "outputs": [
    {
     "name": "stdout",
     "output_type": "stream",
     "text": [
      "X_train shape: (66680, 82)\n",
      "X_test shape: (16671, 82)\n",
      "X_oot shape: (12289, 82)\n",
      "y_train shape: (66680,)\n",
      "y_test shape: (16671,)\n",
      "y_oot shape: (12289,)\n"
     ]
    }
   ],
   "source": [
    "X = df.drop(['Fraud','Recnum'], axis=1)\n",
    "Y = df['Fraud']\n",
    "X_oot = oot.drop(['Fraud','Recnum'], axis=1)\n",
    "y_oot = oot['Fraud']\n",
    "X_train, X_test, y_train, y_test = train_test_split(X, df['Fraud'], test_size=0.2, random_state= 125, stratify=Y)\n",
    "\n",
    "# Checking the shapes of the resulting arrays\n",
    "print(\"X_train shape:\", X_train.shape)\n",
    "print(\"X_test shape:\", X_test.shape)\n",
    "print(\"X_oot shape:\", X_oot.shape)\n",
    "print(\"y_train shape:\", y_train.shape)\n",
    "print(\"y_test shape:\", y_test.shape)\n",
    "print(\"y_oot shape:\", y_oot.shape)"
   ]
  },
  {
   "cell_type": "code",
   "execution_count": 10,
   "id": "47704a8a",
   "metadata": {},
   "outputs": [],
   "source": [
    "X_train.to_csv('X_Train.csv')\n",
    "y_train.to_csv('y_train.csv')\n",
    "X_test.to_csv('X_test.csv')\n",
    "y_test.to_csv('y_test.csv')\n",
    "X_oot.to_csv('X_oot.csv')\n",
    "y_oot.to_csv('y_oot.csv')"
   ]
  },
  {
   "cell_type": "code",
   "execution_count": 13,
   "id": "9a86be14",
   "metadata": {},
   "outputs": [
    {
     "data": {
      "text/plain": [
       "(66680,)"
      ]
     },
     "execution_count": 13,
     "metadata": {},
     "output_type": "execute_result"
    }
   ],
   "source": [
    "y_train.shape"
   ]
  }
 ],
 "metadata": {
  "kernelspec": {
   "display_name": "Python 3 (ipykernel)",
   "language": "python",
   "name": "python3"
  },
  "language_info": {
   "codemirror_mode": {
    "name": "ipython",
    "version": 3
   },
   "file_extension": ".py",
   "mimetype": "text/x-python",
   "name": "python",
   "nbconvert_exporter": "python",
   "pygments_lexer": "ipython3",
   "version": "3.11.5"
  }
 },
 "nbformat": 4,
 "nbformat_minor": 5
}
